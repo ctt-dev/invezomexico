{
 "cells": [
  {
   "cell_type": "code",
   "execution_count": 23,
   "id": "d7609cf9-8176-4985-9e2b-fba1fb5856d4",
   "metadata": {},
   "outputs": [
    {
     "name": "stdout",
     "output_type": "stream",
     "text": [
      "True\n"
     ]
    }
   ],
   "source": []
  },
  {
   "cell_type": "code",
   "execution_count": 8,
   "id": "dadb9be5-f940-419a-9b6f-a39d40c129a8",
   "metadata": {},
   "outputs": [
    {
     "name": "stdout",
     "output_type": "stream",
     "text": [
      "b''\n"
     ]
    }
   ],
   "source": [
    "import base64\n",
    "x = self.env['account.move'].browse([(6530)])\n",
    "print(base64.b64decode(x.edi_document_ids.edi_content))"
   ]
  },
  {
   "cell_type": "code",
   "execution_count": 2,
   "id": "37087583-1e3e-41c5-87d5-648ceccc7ea9",
   "metadata": {},
   "outputs": [
    {
     "name": "stdout",
     "output_type": "stream",
     "text": [
      "3212\n"
     ]
    }
   ],
   "source": [
    "x = self.env['sale.order'].search([('folio_venta','=','144d444'),('amount_total','=',3081)])\n",
    "print(x.id)"
   ]
  },
  {
   "cell_type": "code",
   "execution_count": null,
   "id": "f4ab2fbd-0281-446c-bde7-a3dad9e4cb41",
   "metadata": {},
   "outputs": [],
   "source": []
  }
 ],
 "metadata": {
  "kernelspec": {
   "display_name": "Odoo-shell",
   "language": "",
   "name": "odoo"
  },
  "language_info": {
   "codemirror_mode": {
    "name": "ipython",
    "version": 3
   },
   "file_extension": ".py",
   "mimetype": "text/x-python",
   "name": "python",
   "nbconvert_exporter": "python",
   "pygments_lexer": "ipython3",
   "version": "3.10.12"
  }
 },
 "nbformat": 4,
 "nbformat_minor": 5
}
