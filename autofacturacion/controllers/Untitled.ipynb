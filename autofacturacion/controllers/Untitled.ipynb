{
 "cells": [
  {
   "cell_type": "code",
   "execution_count": null,
   "id": "c6bd86ba-c2fe-4c2c-9a25-6a0cc213b220",
   "metadata": {},
   "outputs": [],
   "source": [
    "x = self.env['res.partner'].search(['id', '=', 1661])\n",
    "print(x.name)\n",
    "x.update({\n",
    "'name' : 'Jesus'\n",
    "})"
   ]
  },
  {
   "cell_type": "code",
   "execution_count": null,
   "id": "7a5c6696-c73a-4540-87c9-9e9c60ee1783",
   "metadata": {},
   "outputs": [],
   "source": []
  }
 ],
 "metadata": {
  "kernelspec": {
   "display_name": "Odoo-shell",
   "language": "",
   "name": "odoo"
  },
  "language_info": {
   "name": ""
  }
 },
 "nbformat": 4,
 "nbformat_minor": 5
}
