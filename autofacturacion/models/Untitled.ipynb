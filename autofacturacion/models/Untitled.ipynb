{
 "cells": [
  {
   "cell_type": "code",
   "execution_count": 3,
   "id": "66f7c1ce-0257-4881-a6d8-2d76dff20b4c",
   "metadata": {},
   "outputs": [
    {
     "name": "stdout",
     "output_type": "stream",
     "text": [
      "res.users(1,)\n"
     ]
    }
   ],
   "source": [
    "x = env['sale.order'].search([('folio_venta', '=', '888')])\n",
    "print(env.user)"
   ]
  },
  {
   "cell_type": "code",
   "execution_count": null,
   "id": "4dbde2c2-a643-4205-9ebe-778ef8ffdc7c",
   "metadata": {},
   "outputs": [],
   "source": []
  }
 ],
 "metadata": {
  "kernelspec": {
   "display_name": "Odoo-shell",
   "language": "",
   "name": "odoo"
  },
  "language_info": {
   "codemirror_mode": {
    "name": "ipython",
    "version": 3
   },
   "file_extension": ".py",
   "mimetype": "text/x-python",
   "name": "python",
   "nbconvert_exporter": "python",
   "pygments_lexer": "ipython3",
   "version": "3.10.12"
  }
 },
 "nbformat": 4,
 "nbformat_minor": 5
}
