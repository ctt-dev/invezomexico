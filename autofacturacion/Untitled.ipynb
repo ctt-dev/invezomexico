{
 "cells": [
  {
   "cell_type": "code",
   "execution_count": 11,
   "id": "d7609cf9-8176-4985-9e2b-fba1fb5856d4",
   "metadata": {},
   "outputs": [
    {
     "name": "stdout",
     "output_type": "stream",
     "text": [
      "sa\n"
     ]
    }
   ],
   "source": [
    "x = self.env['res.partner'].search([('id', '=', '1660')])\n",
    "print(x.name)\n",
    "x.update({\n",
    "    'name' : 'sa'\n",
    "})"
   ]
  },
  {
   "cell_type": "code",
   "execution_count": null,
   "id": "dadb9be5-f940-419a-9b6f-a39d40c129a8",
   "metadata": {},
   "outputs": [],
   "source": []
  },
  {
   "cell_type": "code",
   "execution_count": null,
   "id": "37087583-1e3e-41c5-87d5-648ceccc7ea9",
   "metadata": {},
   "outputs": [],
   "source": []
  }
 ],
 "metadata": {
  "kernelspec": {
   "display_name": "Odoo-shell",
   "language": "",
   "name": "odoo"
  },
  "language_info": {
   "codemirror_mode": {
    "name": "ipython",
    "version": 3
   },
   "file_extension": ".py",
   "mimetype": "text/x-python",
   "name": "python",
   "nbconvert_exporter": "python",
   "pygments_lexer": "ipython3",
   "version": "3.10.12"
  }
 },
 "nbformat": 4,
 "nbformat_minor": 5
}
