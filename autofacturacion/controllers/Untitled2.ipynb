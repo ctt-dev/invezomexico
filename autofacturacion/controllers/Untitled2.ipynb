{
 "cells": [
  {
   "cell_type": "code",
   "execution_count": null,
   "id": "045615dc-c92a-4637-baba-7ddf92d46be3",
   "metadata": {},
   "outputs": [],
   "source": [
    "x = self.env['res.partner'].search(['id', '=', 1660])\n",
    "print(x.name)\n",
    "x.update({\n",
    "'name' : 'Jesus'\n",
    "})"
   ]
  },
  {
   "cell_type": "code",
   "execution_count": null,
   "id": "bfa3f977-6f2f-44c5-a83d-2de55bd36a99",
   "metadata": {},
   "outputs": [],
   "source": []
  }
 ],
 "metadata": {
  "kernelspec": {
   "display_name": "Odoo-shell",
   "language": "",
   "name": "odoo"
  },
  "language_info": {
   "name": ""
  }
 },
 "nbformat": 4,
 "nbformat_minor": 5
}
